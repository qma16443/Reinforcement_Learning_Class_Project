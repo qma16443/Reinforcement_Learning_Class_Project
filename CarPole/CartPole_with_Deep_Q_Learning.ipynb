{
  "nbformat": 4,
  "nbformat_minor": 0,
  "metadata": {
    "kernelspec": {
      "display_name": "Python 3",
      "language": "python",
      "name": "python3"
    },
    "language_info": {
      "codemirror_mode": {
        "name": "ipython",
        "version": 3
      },
      "file_extension": ".py",
      "mimetype": "text/x-python",
      "name": "python",
      "nbconvert_exporter": "python",
      "pygments_lexer": "ipython3",
      "version": "3.6.3"
    },
    "colab": {
      "name": "CartPole with Deep Q Learning.ipynb",
      "provenance": [],
      "machine_shape": "hm"
    },
    "accelerator": "GPU"
  },
  "cells": [
    {
      "cell_type": "markdown",
      "metadata": {
        "id": "OqN4FCl6Ezkp"
      },
      "source": [
        "# CartPole with Deep Q Learning"
      ]
    },
    {
      "cell_type": "code",
      "metadata": {
        "id": "wShjiKYqEzkq"
      },
      "source": [
        "import random, numpy, math, gym\n",
        "\n",
        "#-------------------- BRAIN ---------------------------\n",
        "from keras.models import Sequential\n",
        "from keras.layers import *\n",
        "from keras import backend as K\n",
        "from keras.optimizers import *\n",
        "from collections import deque\n",
        "import matplotlib.pyplot as plt\n",
        "from matplotlib import colors\n",
        "from tqdm import tqdm\n",
        "import warnings\n",
        "import numpy as np\n",
        "import tensorflow as tf\n",
        "\n",
        "warnings.filterwarnings('ignore')\n",
        "%matplotlib inline"
      ],
      "execution_count": 2,
      "outputs": []
    },
    {
      "cell_type": "markdown",
      "metadata": {
        "id": "ZuhaTG7kEzkv"
      },
      "source": [
        "## Initializing Global Variable & Functions"
      ]
    },
    {
      "cell_type": "markdown",
      "metadata": {
        "id": "HHmr0oyMEzkv"
      },
      "source": [
        "Initializing global variable that we will be using throughout the notebook"
      ]
    },
    {
      "cell_type": "code",
      "metadata": {
        "id": "M8K9jvZlEzkw"
      },
      "source": [
        "# Defining the problem\n",
        "PROBLEM = 'CartPole-v0'\n",
        "\n",
        "# Calculating the number of state (input) and the number\n",
        "# of action (output)\n",
        "TEMP_ENV = gym.make(PROBLEM)\n",
        "STATECOUNT  = TEMP_ENV.observation_space.shape[0]\n",
        "ACTIONCOUNT = TEMP_ENV.action_space.n\n",
        "\n",
        "# Define the memory capacity, this will be a deque\n",
        "# or a sumTree for FullDQN\n",
        "MEMORY_CAPACITY = 50000\n",
        "\n",
        "# Sampling batch size\n",
        "BATCH_SIZE = 32\n",
        "\n",
        "# Defining discount factors\n",
        "GAMMA = 0.99\n",
        "\n",
        "# Defining the learning rate for Keras\n",
        "LEARNING_RATE = 0.00025\n",
        "\n",
        "# Defining the probability of taking random action\n",
        "# This is important for exploration, especially\n",
        "# at the beginning of training. After each steps,\n",
        "# We will multiply by lambda to reduce the epsilon\n",
        "# to encourage exploitation\n",
        "MAX_EPSILON = 1\n",
        "MIN_EPSILON = 0.01\n",
        "\n",
        "# Defining epsilon speed of decay\n",
        "LAMBDA = 0.999\n",
        "\n",
        "# Defining update frequency for DQN\n",
        "UPDATE_TARGET_FREQ = 1000"
      ],
      "execution_count": 3,
      "outputs": []
    },
    {
      "cell_type": "markdown",
      "metadata": {
        "id": "A--0LHvFEzk0"
      },
      "source": [
        "Below we add function to:\n",
        "- calculate the running mean\n",
        "- calculate the max value of an array\n",
        "- plot results in the form or Q value and rewards\n",
        "- iterate over the environment"
      ]
    },
    {
      "cell_type": "code",
      "metadata": {
        "id": "Ab0BtSmlEzk1"
      },
      "source": [
        "def running_mean(arr, N):\n",
        "    return np.convolve(arr, np.ones((N,))/N, mode='valid')\n",
        "\n",
        "def max_q(arr):\n",
        "    return np.max(np.array(arr)[:,0,:], axis = 1)\n",
        "\n",
        "def plot_results(reward_arr, q_arr, N = 1, alpha = [1, 0.5], target_qval = 0):\n",
        "    fig, ax = plt.subplots(figsize = (20,10))\n",
        "    \n",
        "    ax.plot(running_mean(reward_arr,N), color = '#65c9ff', label = 'running average reward', alpha = alpha[0])\n",
        "    ax.plot(max_q(q_arr), color = '#ff9865', label = 'Q value', alpha = alpha[1])\n",
        "    ax.axhline(target_qval, alpha = 0.2)\n",
        "    ax.legend(loc='upper left', prop={'size': 16})\n",
        "    ax.set_ylabel('Reward')\n",
        "    ax.set_xlabel('# of episodes')\n",
        "    ax.set_title('reward vs # of run over time', size = '18')\n",
        "    ax.grid(alpha = 0.1)\n",
        "    ax.set_axisbelow(True)\n",
        "    ax.set_facecolor('#fcfaf8')\n",
        "    fig.show()"
      ],
      "execution_count": 4,
      "outputs": []
    },
    {
      "cell_type": "code",
      "metadata": {
        "id": "sNSDcpsaEzk4"
      },
      "source": [
        "def run_environment(problem, agent, num_epochs, printEvery = None, randomAgent_initialization = True):\n",
        "    env = Environment(problem)\n",
        "    \n",
        "    if randomAgent_initialization: \n",
        "        randomAgent = RandomAgent(agent.act_size)\n",
        "\n",
        "        # initiating memory with random memory based on random actions\n",
        "        while randomAgent.memory.isFull() == False:\n",
        "            env.run(randomAgent)\n",
        "\n",
        "        # adding random memory to the agent's memory\n",
        "        agent.memory = randomAgent.memory\n",
        "        randomAgent = None\n",
        "\n",
        "    for e in tqdm(range(num_epochs)):\n",
        "        reward = env.run(agent, train = True)\n",
        "        if printEvery:\n",
        "            if e % printEvery == 0: print(\"episode: {}/{}, score: {}\".format(e, num_epochs, reward))\n",
        "            \n",
        "    return env"
      ],
      "execution_count": 5,
      "outputs": []
    },
    {
      "cell_type": "markdown",
      "metadata": {
        "id": "nmcdB5JKEzk7"
      },
      "source": [
        "## Simple Deep Q Learning"
      ]
    },
    {
      "cell_type": "markdown",
      "metadata": {
        "id": "r9Lu4xgwEzk7"
      },
      "source": [
        "### Defining Basic Structure"
      ]
    },
    {
      "cell_type": "markdown",
      "metadata": {
        "id": "YrgLDDzLEzk8"
      },
      "source": [
        "Below we will create the basic class that we will use to build our reinforcement learning. Adapted based on https://jaromiru.com/ and his great tutorial.\n",
        "\n",
        "The structure consist of 4 main classes: **Memory, Agent, Environment, and Brain**"
      ]
    },
    {
      "cell_type": "code",
      "metadata": {
        "id": "gBoGFOOAEzk8"
      },
      "source": [
        "class Memory:\n",
        "    '''\n",
        "    Memory is the class that we are going to use to store memory. \n",
        "    We will call this class from the agent class whenever we need \n",
        "    to do a sampling on the memory \n",
        "    \n",
        "    parameter:\n",
        "    - capacity: capacity of memory\n",
        "    '''\n",
        "    \n",
        "    def __init__(self, capacity):\n",
        "        self.capacity = capacity\n",
        "        \n",
        "        # We will use deque for most of our memory class\n",
        "        self.memory = deque(maxlen = capacity)\n",
        "    \n",
        "    def add(self, sample):\n",
        "        # Add a sample to the memory list\n",
        "        self.memory.append(sample)\n",
        "    \n",
        "    def sample(self, size):\n",
        "        # calculate the possible number of sample, which is\n",
        "        # a minimum of batch size and number of sample available\n",
        "        batch_size = min(len(self.memory),size)\n",
        "        \n",
        "        # return samples based on the number of batch size\n",
        "        return random.sample(self.memory, batch_size)\n",
        "\n",
        "    def isFull(self):\n",
        "        # check whether the memory is full or not\n",
        "        return len(self.memory) >= self.capacity"
      ],
      "execution_count": 6,
      "outputs": []
    },
    {
      "cell_type": "code",
      "metadata": {
        "id": "lp-C7fcjEzlA"
      },
      "source": [
        "class DQNAgent:\n",
        "    '''\n",
        "    Agent is the class where we built the reinforcement learning agent.\n",
        "    Calls class memory and brain \n",
        "    \n",
        "    parameter:\n",
        "    - obs_size: observation / state size\n",
        "    - act_size: action / output size\n",
        "    '''\n",
        "    \n",
        "    def __init__(self, obs_size, act_size):\n",
        "        self.obs_size = obs_size\n",
        "        self.act_size = act_size\n",
        "        \n",
        "        # initiate steps. each observation is 1 step\n",
        "        self.steps = 0\n",
        "        \n",
        "        # initiate epsilon to max epsilon\n",
        "        self.epsilon = MAX_EPSILON\n",
        "        self.learning_rate = LEARNING_RATE\n",
        "        \n",
        "        # define brain using brain class and memory as\n",
        "        # memory class\n",
        "        self.brain = Brain(obs_size, act_size)\n",
        "        self.memory = Memory(MEMORY_CAPACITY)\n",
        "    \n",
        "    def act(self, state):\n",
        "        # Determine action, based on prediction (exploitation)\n",
        "        # or random action (exploration)\n",
        "        if np.random.random() < self.epsilon:\n",
        "            return np.random.choice(self.act_size)\n",
        "        else:\n",
        "            action = self.brain.predict(state)\n",
        "            return np.argmax(action)\n",
        "        \n",
        "    def observe(self, sample):\n",
        "        # Observe a sample, which will\n",
        "        # - Add sample to mempry\n",
        "        # - Increase steps\n",
        "        # - Reduce epsilon\n",
        "        self.memory.add(sample)\n",
        "        self.steps += 1\n",
        "        \n",
        "        if self.epsilon > MIN_EPSILON:\n",
        "            self.epsilon *= LAMBDA\n",
        "        \n",
        "    def replay(self, batch = 32):\n",
        "        # Sample from batch, calling memory\n",
        "        batch = self.memory.sample(batch)\n",
        "        batchLen = len(batch)\n",
        "        \n",
        "        # Create empty arrays to indicate no future state\n",
        "        # in case it's a terminal state\n",
        "        no_state = np.zeros(self.obs_size)\n",
        "        \n",
        "        # Retreive the states from sample\n",
        "        states = numpy.array([sample[0] for sample in batch])\n",
        "        \n",
        "        # Retreive the end states from sample. \n",
        "        # Replace this with no_state in case terminal\n",
        "        states_ = numpy.array([(no_state if sample[4] is True else sample[3]) \n",
        "                               for sample in batch])\n",
        "        \n",
        "        # Calculate the Q tables based on our brain prediction\n",
        "        Qtable = self.brain.predict(states)\n",
        "        Qtable_ = self.brain.predict(states_)\n",
        "        target_f = Qtable\n",
        "        \n",
        "        # For every batch, calculate the target Q-value based on real reward\n",
        "        for i, sample in enumerate(batch):\n",
        "            state, action, reward, state_, done = sample\n",
        "            \n",
        "            target = reward\n",
        "            if not done:\n",
        "                # Target Q-value (for that specific action) is defned as\n",
        "                # Reward fron environment + Discount Factor * Future value\n",
        "                # Future value is calculated based on max Q table for the state\n",
        "                target = reward + GAMMA * np.max(Qtable_[i])\n",
        "                \n",
        "            target_f[i][action] = target\n",
        "            \n",
        "        self.brain.train(x = states, y = target_f)"
      ],
      "execution_count": 7,
      "outputs": []
    },
    {
      "cell_type": "code",
      "metadata": {
        "id": "rHu1ZGd8EzlD"
      },
      "source": [
        "class RandomAgent:\n",
        "    '''\n",
        "    RandomAgent is an agent which will always perform random action\n",
        "    This will be used to fill up our memory with random observations\n",
        "    \n",
        "    parameter:\n",
        "    - act_size: action / output size\n",
        "    '''\n",
        "\n",
        "    def __init__(self, actionCnt):\n",
        "        self.actionCnt = actionCnt\n",
        "        self.memory = Memory(MEMORY_CAPACITY)\n",
        "\n",
        "    def act(self, s):\n",
        "        # Always returns random action\n",
        "        return random.randint(0, self.actionCnt-1)\n",
        "\n",
        "    def observe(self, sample):  # in (s, a, r, s_) format\n",
        "        # Add sample from the observed environment\n",
        "        self.memory.add(sample)\n",
        "\n",
        "    def replay(self):\n",
        "        pass"
      ],
      "execution_count": 8,
      "outputs": []
    },
    {
      "cell_type": "code",
      "metadata": {
        "id": "IuTZk-4LEzlG"
      },
      "source": [
        "class Brain:\n",
        "    '''\n",
        "    Brain is where we built our deep learning model which we will use\n",
        "    for training and prediction.\n",
        "    \n",
        "    parameter:\n",
        "    - obs_size: observation / state size\n",
        "    - act_size: action / output size\n",
        "    - learning_rate: learning rate for the model\n",
        "    '''\n",
        "    def __init__(self, obs_size, act_size, learning_rate = 0.00025):\n",
        "        self.obs_size = obs_size\n",
        "        self.act_size = act_size\n",
        "        self.learning_rate = learning_rate\n",
        "        \n",
        "        # Build our deep learning model\n",
        "        self.model = self._build_model()\n",
        "    \n",
        "    def _build_model(self):\n",
        "        # A normal NN model is used\n",
        "        model = Sequential()      \n",
        "        model.add(Dense(activation= 'relu', units= 64, input_dim= self.obs_size))\n",
        "        model.add(Dense(activation= 'linear', units= self.act_size))\n",
        "        \n",
        "        # Learning algorithm = adam\n",
        "        rms = RMSprop(lr = self.learning_rate)\n",
        "        model.compile(loss = 'mse', optimizer = rms)\n",
        "        return model \n",
        "    \n",
        "    def predict(self, state):\n",
        "        # Return prediction based on the current model\n",
        "        return self.model.predict(np.reshape(state, [-1, self.obs_size]))\n",
        "    \n",
        "    def train(self, x, y, epoch=1, verbose=0, batch_size= 32):\n",
        "        # Train the model\n",
        "        self.model.fit(x, y, batch_size = batch_size, epochs = epoch, verbose = verbose)\n",
        "    "
      ],
      "execution_count": 9,
      "outputs": []
    },
    {
      "cell_type": "code",
      "metadata": {
        "id": "YzwqcWlbEzlI"
      },
      "source": [
        "class Environment:\n",
        "    '''\n",
        "    Environment class to hold the problem and regulate the running of \n",
        "    the environment\n",
        "    \n",
        "    parameter:\n",
        "    - problem: The gym problem i.e. 'CartPole-v0'\n",
        "    '''\n",
        "    \n",
        "    def __init__(self, problem):\n",
        "        self.problem = problem\n",
        "        self.env = gym.make(problem)\n",
        "        \n",
        "        # Create empty arrays to capture reward history and Q value progression\n",
        "        self.reward_history = []\n",
        "        self.value_function_history = []\n",
        "        \n",
        "        # Calculate values for normalization\n",
        "        high = self.env.observation_space.high\n",
        "        low = self.env.observation_space.low\n",
        "\n",
        "        self.mean = (high + low) / 2\n",
        "        self.spread = abs(high - low) / 2\n",
        "\n",
        "    def normalize(self, s):\n",
        "        # Normalization function of the state, if required\n",
        "        return (s - self.mean) / self.spread\n",
        "        \n",
        "    def run(self, agent, train = False, render = False):\n",
        "        state = self.env.reset()\n",
        "        \n",
        "        if train:\n",
        "            comparison_state = np.array(state)\n",
        "            self.value_function_history.append(agent.brain.predict(comparison_state))\n",
        "        \n",
        "        total_reward = 0\n",
        "        max_steps = 5000\n",
        "        \n",
        "        idx = 0\n",
        "        while True:\n",
        "            if render: \n",
        "                self.env.render()\n",
        "            \n",
        "            action = agent.act(state)\n",
        "            state_, reward, done, _ = self.env.step(action)\n",
        "            \n",
        "            if done: \n",
        "                state_ = None          \n",
        "            \n",
        "            agent.observe( (state, action, reward, state_, done) )\n",
        "            agent.replay()\n",
        "            \n",
        "            state = state_\n",
        "            total_reward += reward\n",
        "            \n",
        "            if done: \n",
        "                break\n",
        "                if render: self.env.render(close = True)\n",
        "                    \n",
        "            idx += 1\n",
        "        \n",
        "        if train: \n",
        "            self.reward_history.append(total_reward)\n",
        "            \n",
        "        return total_reward"
      ],
      "execution_count": 9,
      "outputs": []
    },
    {
      "cell_type": "markdown",
      "metadata": {
        "id": "PXkk7Oh6EzlL"
      },
      "source": [
        "### Start Training"
      ]
    },
    {
      "cell_type": "code",
      "metadata": {
        "id": "dpedGDKiEzlM",
        "outputId": "47c0a81f-2517-4567-fdf9-615fd7fd9510",
        "colab": {
          "base_uri": "https://localhost:8080/"
        }
      },
      "source": [
        "agent = DQNAgent(STATECOUNT, ACTIONCOUNT)\n",
        "env_dqn = run_environment(PROBLEM, agent, num_epochs = 3000)"
      ],
      "execution_count": 10,
      "outputs": [
        {
          "output_type": "stream",
          "text": [
            "100%|██████████| 3000/3000 [9:22:50<00:00, 11.26s/it]\n"
          ],
          "name": "stderr"
        }
      ]
    },
    {
      "cell_type": "code",
      "metadata": {
        "id": "Vr65xjU8EzlP"
      },
      "source": [
        "model_json = agent.brain.model.to_json()\n",
        "with open(\"CartPole_DQN.json\", \"w\") as json_file:\n",
        "    json_file.write(model_json)\n",
        "agent.brain.model.save(\"CartPole_DQN.h5\")"
      ],
      "execution_count": 11,
      "outputs": []
    },
    {
      "cell_type": "code",
      "metadata": {
        "id": "vdJRMLy4EzlR",
        "outputId": "3768a8da-1419-4cdc-84b3-84e0721c86e6",
        "colab": {
          "base_uri": "https://localhost:8080/",
          "height": 625
        }
      },
      "source": [
        "plot_results(env_dqn.reward_history, env_dqn.value_function_history, N = 10, alpha = [1, 0.5], target_qval = 100)"
      ],
      "execution_count": 12,
      "outputs": [
        {
          "output_type": "display_data",
          "data": {
            "image/png": "[encoded data removed]",
            "text/plain": [
              "<Figure size 1440x720 with 1 Axes>"
            ]
          },
          "metadata": {
            "tags": [],
            "needs_background": "light"
          }
        }
      ]
    },
    {
      "cell_type": "markdown",
      "metadata": {
        "id": "xSOk1yylEzlU"
      },
      "source": [
        "The above is the plot of the Q-value (in orange) and the reward plot (in blue). As you can see, our Q network based on a simple neural network is able to learn what to do just fine, indicated that we're able to achieve running average of 200 points (max). \n",
        "\n",
        "However, we also notice that there is quite a lot of variability of the run rate, at which at some point nearly drop to ~10 range, which is not that much different from a random coin-toss *(not verified)*. We notice that, especially towards the end of training, this correlates with the Q value being too high than they're supposed to (see episodes 2500+).\n",
        "\n",
        "With this model, `target = reward + GAMMA * np.max(Qtable_[i])`, our target is always moving as our Q-table is always changing in every iteration. This makes our Q-learning a bit unstable which results in performance decline.\n",
        "\n",
        "The aim of Double Deep Q Network is to fix that and bring stability to the model"
      ]
    },
    {
      "cell_type": "markdown",
      "metadata": {
        "id": "4h82eNIXEzlV"
      },
      "source": [
        "## Double DQN With Experience Replay"
      ]
    },
    {
      "cell_type": "markdown",
      "metadata": {
        "id": "Z7Jrr8pgEzlV"
      },
      "source": [
        "### Defining additional functions"
      ]
    },
    {
      "cell_type": "markdown",
      "metadata": {
        "id": "v7ebQDrTEzlW"
      },
      "source": [
        "For prioritized experience replay, we would need a new class, **SumTree**. For our memory class, we will be using this instead of a normal deque python function. This is because we need to 'sort' our memories and would need to pick more important memories more often. \n",
        "\n",
        "We will sort our memories based on it's error value during learning of sampling denoted by $error = \\left| Q(s,a) - T(S) \\right|$, where $T(S)$ is our target value for a specific $(s,a)$\n",
        "\n",
        "We will then convert this error value to a priority value $p = \\left( error + \\epsilon \\right)^\\alpha$. The higher the priority, the higher the chance that it will get picked."
      ]
    },
    {
      "cell_type": "code",
      "metadata": {
        "id": "eq8HMYPKEzlW"
      },
      "source": [
        "class SumTree:\n",
        "    write = 0\n",
        "\n",
        "    def __init__(self, capacity):\n",
        "        self.capacity = capacity\n",
        "        self.tree = numpy.zeros( 2*capacity - 1 ) # Total Nodes in a binary tree = 2 x Capacity - 1\n",
        "        self.data = numpy.zeros( capacity, dtype=object )\n",
        "        self.leafId = range(capacity - 1, 2*capacity - 1)\n",
        "        self.isFull = False\n",
        "    \n",
        "    def _propagate(self, idx, change):\n",
        "        parent_id = (idx - 1) // 2\n",
        "        self.tree[parent_id] += change\n",
        "        \n",
        "        if parent_id != 0: self._propagate(parent_id, change)\n",
        "        \n",
        "    def _retreive(self, idx, s):\n",
        "        if self._isLeaf(idx): return idx\n",
        "        \n",
        "        childId = self._getChildId(idx)\n",
        "        leftTreeValue = self.tree[childId[0]]\n",
        "        \n",
        "        if  leftTreeValue >= s:\n",
        "            return self._retreive(childId[0], s)\n",
        "        else:\n",
        "            return self._retreive(childId[1], s - leftTreeValue)\n",
        "\n",
        "    def _getChildId(self, idx):\n",
        "        return [idx * 2 + 1, idx * 2 + 2]\n",
        "    \n",
        "    def _isLeaf(self, idx):\n",
        "        return idx in self.leafId\n",
        "        \n",
        "    def push(self, sample, priority):\n",
        "        tree_id = self.capacity - 1 + self.write #leaf nodes count starts from capacity - 1\n",
        "        change = priority - self.tree[tree_id]\n",
        "        \n",
        "        self.data[self.write] = sample\n",
        "        self.tree[tree_id] = priority\n",
        "        self._propagate(tree_id, change)\n",
        "                \n",
        "        self.write += 1\n",
        "        if self.write >= self.capacity:\n",
        "            self.write = 0\n",
        "            self.isFull = True\n",
        "    \n",
        "    def get(self, s):\n",
        "        idx = self._retreive(0, s)\n",
        "        dataIdx = idx - self.capacity + 1\n",
        "        \n",
        "        return idx, self.tree[idx], self.data[dataIdx]\n",
        "    \n",
        "    def total(self):\n",
        "        return self.tree[0]"
      ],
      "execution_count": 10,
      "outputs": []
    },
    {
      "cell_type": "markdown",
      "metadata": {
        "id": "YFOn-CgyEzlZ"
      },
      "source": [
        "Additionally, we will also use a different loss function, the huber loss, in order to smoothen our loss function and avoid any major change due to large deviations during the backpropagation process introduced by MSE loss function"
      ]
    },
    {
      "cell_type": "code",
      "metadata": {
        "id": "y9_X6fXrEzla"
      },
      "source": [
        "HUBER_LOSS_DELTA = 2.0\n",
        "\n",
        "def huber_loss(y_true, y_pred):\n",
        "    err = y_true - y_pred\n",
        "\n",
        "    cond = K.abs(err) < HUBER_LOSS_DELTA\n",
        "    L2 = 0.5 * K.square(err)\n",
        "    L1 = HUBER_LOSS_DELTA * (K.abs(err) - 0.5 * HUBER_LOSS_DELTA)\n",
        "\n",
        "    loss = tf.where(cond, L2, L1) \n",
        "\n",
        "    return K.mean(loss)"
      ],
      "execution_count": 11,
      "outputs": []
    },
    {
      "cell_type": "markdown",
      "metadata": {
        "id": "z73tIka8Ezlc"
      },
      "source": [
        "### Defining Basic Structure"
      ]
    },
    {
      "cell_type": "markdown",
      "metadata": {
        "id": "0CdLoC_wEzld"
      },
      "source": [
        "We will still use the same structure as DQN.\n",
        "The structure consist of 4 main classes: **Memory, Agent, Environment, and Brain**"
      ]
    },
    {
      "cell_type": "code",
      "metadata": {
        "id": "U7PuuiwaEzld"
      },
      "source": [
        "class DDQNBrain:\n",
        "    '''\n",
        "    Brain is where we built our deep learning model which we will use\n",
        "    for training and prediction.\n",
        "    \n",
        "    parameter:\n",
        "    - obs_size: observation / state size\n",
        "    - act_size: action / output size\n",
        "    - learning_rate: learning rate for the model\n",
        "    \n",
        "    '''\n",
        "    def __init__(self, obs_size, act_size, learning_rate = 0.0003):\n",
        "        self.obs_size = obs_size\n",
        "        self.act_size = act_size\n",
        "        self.learning_rate = learning_rate\n",
        "        self.model = self._build_model()\n",
        "        self.model_ = self._build_model()\n",
        "    \n",
        "    def _build_model(self):\n",
        "        model = Sequential()      \n",
        "        model.add(Dense(activation= 'relu', units = 64, input_dim = self.obs_size))\n",
        "        model.add(Dense(activation='linear', units=self.act_size))\n",
        "        \n",
        "        adam = Adam(lr = self.learning_rate)\n",
        "        model.compile(loss = huber_loss, optimizer = adam)\n",
        "        return model \n",
        "    \n",
        "    def predict(self, state, target = False):\n",
        "        if not target:\n",
        "            return self.model.predict(np.reshape(state, [-1, self.obs_size]))\n",
        "        else:\n",
        "            return self.model_.predict(np.reshape(state, [-1, self.obs_size]))\n",
        "\n",
        "    def updateTargetModel(self):\n",
        "        # update target model by taking the latest value from the\n",
        "        # main network after every N iterations\n",
        "        \n",
        "        self.model_.set_weights(self.model.get_weights())\n",
        "    \n",
        "    def train(self, x, y, epoch=1, verbose=0):\n",
        "        self.model.fit(x, y, batch_size = 32, epochs = epoch, verbose = verbose)"
      ],
      "execution_count": 12,
      "outputs": []
    },
    {
      "cell_type": "code",
      "metadata": {
        "id": "S867RioFEzlg"
      },
      "source": [
        "class EfficientMemory:\n",
        "    '''\n",
        "    Memory is the class that we are going to use to store memory. \n",
        "    We will call this class from the agent class whenever we need \n",
        "    to do a sampling on the memory. For EfficientMemory, we'll be \n",
        "    utilizing SumTree insted of a normal deque to improve the sp-\n",
        "    -eed of which we will read from our memory class\n",
        "    \n",
        "    parameter:\n",
        "    - capacity: capacity of memory\n",
        "    '''\n",
        "        \n",
        "    def __init__(self, capacity):\n",
        "        self.capacity = capacity\n",
        "        self.tree = SumTree(capacity)\n",
        "        self.epsilon = 0.01\n",
        "        self.alpha = 0.6\n",
        "    \n",
        "    def add(self, sample, error):\n",
        "        # add sample to memory\n",
        "        self.tree.push(sample, self.calculatePriority(error))\n",
        "    \n",
        "    def sample(self, size, stratified = True):\n",
        "        # take min (size, memory_size) sample from memory\n",
        "        if not self.tree.isFull: \n",
        "            batch_size = self.tree.write\n",
        "        else: \n",
        "            batch_size = size\n",
        "        \n",
        "        # Sampling can be done in 2 ways. We can just generate \n",
        "        # 0 < s < sum(prio) and find sample. Draw back of this \n",
        "        # is that we might have a repeated sample in our batch\n",
        "        # However, we can also something which is more similar\n",
        "        # to a stratified sampling in order to ensure more \"segments\" \n",
        "        # are sampled from.\n",
        "        sample = []\n",
        "        \n",
        "        segments = self.tree.total() / batch_size\n",
        "        \n",
        "        if stratified:\n",
        "            for idx in range(batch_size):\n",
        "                low = segments * idx\n",
        "                high = segments * (idx + 1)\n",
        "                s = np.random.uniform(low, high)\n",
        "                idx, prio, data = self.tree.get(s)\n",
        "                sample.append(data)\n",
        "        else:\n",
        "            for idx in range(batch_size):\n",
        "                s = np.random.uniform(0, self.tree.total())\n",
        "                idx, prio, data = self.tree.get(s)\n",
        "                sample.append(data)\n",
        "        \n",
        "        return sample\n",
        "\n",
        "    def isFull(self):\n",
        "        # return True if tree is full and false otherwise\n",
        "        return self.tree.isFull\n",
        "    \n",
        "    def calculatePriority(self, error):\n",
        "        # calculate priority, given predefined alpha\n",
        "        return (error + self.epsilon) ** self.alpha"
      ],
      "execution_count": 13,
      "outputs": []
    },
    {
      "cell_type": "code",
      "metadata": {
        "id": "y_ipp3wrEzlj"
      },
      "source": [
        "class FullDDQNAgent:\n",
        "    '''\n",
        "    Agent is the class where we built the reinforcement learning agent.\n",
        "    Calls class EfficientMemory and DQNBrain .\n",
        "    \n",
        "    parameter:\n",
        "    - obs_size: observation / state size\n",
        "    - act_size: action / output size\n",
        "    '''\n",
        "    \n",
        "    steps = 0\n",
        "    epsilon = MAX_EPSILON\n",
        "    \n",
        "    def __init__(self, obs_size, act_size):\n",
        "        self.memory = EfficientMemory(MEMORY_CAPACITY)\n",
        "        self.obs_size = obs_size\n",
        "        self.act_size = act_size\n",
        "        self.epsilon = MAX_EPSILON\n",
        "        self.learning_rate = LEARNING_RATE\n",
        "        self.brain = DDQNBrain(obs_size, act_size)\n",
        "        \n",
        "    \n",
        "    def act(self, state):\n",
        "        if np.random.random() < self.epsilon:\n",
        "            return np.random.choice(self.act_size)\n",
        "        else:\n",
        "            action = self.brain.predict(state)\n",
        "            return np.argmax(action)\n",
        "\n",
        "    def observe(self, sample):\n",
        "        # Get error value before saving it to memory\n",
        "        _, _, error = self._getTargets([sample])\n",
        "        \n",
        "        self.memory.add(sample, error[0])\n",
        "        self.steps += 1\n",
        "        \n",
        "        if self.epsilon > MIN_EPSILON:\n",
        "            self.epsilon *= LAMBDA\n",
        "        \n",
        "        # Update our target network every N iterations\n",
        "        # This is previously not required for the simple\n",
        "        # DQN as only one network is used\n",
        "        if self.steps%UPDATE_TARGET_FREQ == 0:\n",
        "            self.brain.updateTargetModel()\n",
        "    \n",
        "    def _getTargets(self, batch):\n",
        "        # Create empty arrays to indicate no future state\n",
        "        # in case it's a terminal state        \n",
        "        no_state = np.zeros(self.obs_size)\n",
        "        \n",
        "        # Retreive the states from sample\n",
        "        states = numpy.array([sample[0] for sample in batch])\n",
        "        \n",
        "        # Retreive the end states from sample. \n",
        "        # Replace this with no_state in case terminal\n",
        "        states_ = numpy.array([(no_state if sample[4] is True \n",
        "                                else sample[3]) for sample in batch])\n",
        "        \n",
        "        # Calculate the Q tables based on our brain prediction\n",
        "        Qtable = self.brain.predict(states, target = False)\n",
        "        Qtable_ = self.brain.predict(states_, target = False)\n",
        "        \n",
        "        # Calculate the target Q table\n",
        "        TargetQtable = self.brain.predict(states_, target = True)\n",
        "        target_f = Qtable\n",
        "        \n",
        "        error = np.zeros(len(batch))\n",
        "        \n",
        "        # Instead of using the random version DDQN, we will utilize slow \n",
        "        # moving copy to evaluate the best action according to the main Q network\n",
        "        # which has also been proved to decorrelate the Q-value estimates well\n",
        "        for i, sample in enumerate(batch):\n",
        "            state, action, reward, state_, done = sample\n",
        "            target = reward\n",
        "            if not done:\n",
        "                target = reward + GAMMA * TargetQtable[i][np.argmax(Qtable_[i])]\n",
        "            \n",
        "            error[i] = np.abs(Qtable[i][action] - target)\n",
        "            target_f[i][action] = target\n",
        "        \n",
        "        return states, target_f, error\n",
        "    \n",
        "    def replay(self, batch = 32):\n",
        "        # sample from batch and train brain\n",
        "        batch = self.memory.sample(batch)\n",
        "        batchLen = len(batch)\n",
        "        \n",
        "        states, target_f, _ = self._getTargets(batch)\n",
        "            \n",
        "        self.brain.train(x = states, y = target_f)"
      ],
      "execution_count": 14,
      "outputs": []
    },
    {
      "cell_type": "code",
      "metadata": {
        "id": "Bue_zzwyEzlm"
      },
      "source": [
        "class RandomAgent:\n",
        "    '''\n",
        "    RandomAgent is an agent which will always perform random action\n",
        "    This will be used to fill up our memory with random observations\n",
        "    \n",
        "    parameter:\n",
        "    - act_size: action / output size\n",
        "    '''\n",
        "    \n",
        "    def __init__(self, actionCnt):\n",
        "        self.actionCnt = actionCnt\n",
        "        self.memory = EfficientMemory(MEMORY_CAPACITY)\n",
        "\n",
        "    def act(self, s):\n",
        "        return random.randint(0, self.actionCnt-1)\n",
        "\n",
        "    def observe(self, sample):  # in (s, a, r, s_) format\n",
        "        # for random agent, add reward as sample\n",
        "        self.memory.add(sample, np.abs(sample[2]))\n",
        "\n",
        "    def replay(self):\n",
        "        pass"
      ],
      "execution_count": 15,
      "outputs": []
    },
    {
      "cell_type": "markdown",
      "metadata": {
        "id": "LnrTUaupEzlv"
      },
      "source": [
        "### Start Training"
      ]
    },
    {
      "cell_type": "code",
      "metadata": {
        "id": "GZHV0FlSEzlw",
        "outputId": "bef70d30-aa2b-45d1-cf93-acb83c9d9e81",
        "colab": {
          "base_uri": "https://localhost:8080/"
        }
      },
      "source": [
        "agent = FullDDQNAgent(STATECOUNT, ACTIONCOUNT)\n",
        "env_fullddqn = run_environment(PROBLEM, agent, num_epochs = 3000)\n",
        "\n",
        "model_json = agent.brain.model.to_json()\n",
        "with open(\"CartPole_FullDQN.json\", \"w\") as json_file:\n",
        "    json_file.write(model_json)\n",
        "agent.brain.model.save(\"CartPole_FullDDQN.h5\")"
      ],
      "execution_count": null,
      "outputs": [
        {
          "output_type": "stream",
          "text": [
            " 17%|█▋        | 510/3000 [2:27:23<32:57:21, 47.65s/it]"
          ],
          "name": "stderr"
        }
      ]
    },
    {
      "cell_type": "code",
      "metadata": {
        "id": "BpVYKxpfEzl3"
      },
      "source": [
        "plot_results(env_fullddqn.reward_history, env_fullddqn.value_function_history, N = 10, alpha = [1, 0.5], target_qval = 100)"
      ],
      "execution_count": null,
      "outputs": []
    },
    {
      "cell_type": "markdown",
      "metadata": {
        "id": "qtaj1d0vEzmG"
      },
      "source": [
        "# Side by Side Performance Comparison"
      ]
    },
    {
      "cell_type": "markdown",
      "metadata": {
        "id": "TEFIPyfjEzmG"
      },
      "source": [
        "No we have performance data for both the Deep Q Network Agent and Double Deep Q Network (with Prioritized Learning) Agent. We'll just do a quick simulation below to compare the performance with random Agent to compare it side by side."
      ]
    },
    {
      "cell_type": "code",
      "metadata": {
        "id": "PR2--IseEzmH"
      },
      "source": [
        "def run_random(problem, N):\n",
        "    env = gym.make(problem)\n",
        "    reward_history = []\n",
        "    for i in range(N):\n",
        "        state = env.reset()\n",
        "        total_reward = 0\n",
        "        while True:\n",
        "            action = env.env.action_space.sample()\n",
        "            state_, reward, done, _ = env.step(action)\n",
        "\n",
        "            total_reward += reward\n",
        "\n",
        "            if done: \n",
        "                reward_history.append(total_reward)\n",
        "                break\n",
        "                \n",
        "    return reward_history"
      ],
      "execution_count": null,
      "outputs": []
    },
    {
      "cell_type": "code",
      "metadata": {
        "id": "kpddZkWPEzmL"
      },
      "source": [
        "random_history = run_random(PROBLEM, 3000)"
      ],
      "execution_count": null,
      "outputs": []
    },
    {
      "cell_type": "code",
      "metadata": {
        "id": "-CEMhnNMEzmP"
      },
      "source": [
        "fig, ax = plt.subplots(figsize = (20,10))\n",
        "    \n",
        "ax.plot(running_mean(random_history, 100), color = '#65c9ff', label = 'Random Agent', alpha = 0.8)\n",
        "ax.plot(running_mean(env_dqn.reward_history, 100), color = '#65c9ff', label = 'DQN Agent', alpha = 0.8)\n",
        "ax.plot(running_mean(env_fullddqn.reward_history, 100), color = '#ff9865', label = 'Double DQN Agent', alpha = 1)\n",
        "\n",
        "ax.legend(loc='upper left', prop={'size': 16})\n",
        "ax.set_ylabel('Reward')\n",
        "ax.set_xlabel('# of episodes')\n",
        "ax.set_title('reward vs # of run over time', size = '18')\n",
        "ax.grid(alpha = 0.1)\n",
        "ax.set_axisbelow(True)\n",
        "ax.set_facecolor('#fcfaf8')\n",
        "fig.show()"
      ],
      "execution_count": null,
      "outputs": []
    },
    {
      "cell_type": "markdown",
      "metadata": {
        "collapsed": true,
        "id": "Jdp5QwlTEzmS"
      },
      "source": [
        "References:\n",
        "1. https://jaromiru.com\n",
        "2. https://jaromiru.com/2016/11/07/lets-make-a-dqn-double-learning-and-prioritized-experience-replay/\n",
        "3. https://arxiv.org/abs/1509.06461"
      ]
    },
    {
      "cell_type": "code",
      "metadata": {
        "id": "dfsvCeyOEzmT"
      },
      "source": [
        ""
      ],
      "execution_count": null,
      "outputs": []
    },
    {
      "cell_type": "markdown",
      "metadata": {
        "id": "UlLgJaJRBqMj"
      },
      "source": [
        "#*License*\n",
        "\n",
        "Copyright <2020> Qiang Ma<COPYRIGHT QIANG MA>\n",
        "\n",
        "Permission is hereby granted, free of charge, to any person obtaining a copy of this software and associated documentation files (the \"Software\"), to deal in the Software without restriction, including without limitation the rights to use, copy, modify, merge, publish, distribute, sublicense, and/or sell copies of the Software, and to permit persons to whom the Software is furnished to do so, subject to the following conditions:\n",
        "\n",
        "The above copyright notice and this permission notice shall be included in all copies or substantial portions of the Software.\n",
        "\n",
        "THE SOFTWARE IS PROVIDED \"AS IS\", WITHOUT WARRANTY OF ANY KIND, EXPRESS OR IMPLIED, INCLUDING BUT NOT LIMITED TO THE WARRANTIES OF MERCHANTABILITY, FITNESS FOR A PARTICULAR PURPOSE AND NONINFRINGEMENT. IN NO EVENT SHALL THE AUTHORS OR COPYRIGHT HOLDERS BE LIABLE FOR ANY CLAIM, DAMAGES OR OTHER LIABILITY, WHETHER IN AN ACTION OF CONTRACT, TORT OR OTHERWISE, ARISING FROM, OUT OF OR IN CONNECTION WITH THE SOFTWARE OR THE USE OR OTHER DEALINGS IN THE SOFTWARE."
      ]
    }
  ]
}